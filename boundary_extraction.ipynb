{
 "cells": [
  {
   "cell_type": "markdown",
   "metadata": {},
   "source": [
    "## 邊界抽取 Boundary Extraction\n",
    "用 A 跟 B 做 Erosion 會得到一個比較小的A，再用原來的A 減掉比較小的A，那麼多出來的地方就剛好是邊界了"
   ]
  },
  {
   "cell_type": "code",
   "execution_count": 1,
   "metadata": {},
   "outputs": [],
   "source": [
    "import cv2\n",
    "import numpy as np\n",
    "from skimage import data,img_as_float"
   ]
  },
  {
   "cell_type": "code",
   "execution_count": 2,
   "metadata": {},
   "outputs": [],
   "source": [
    "default_structure = np.ones((5,5),np.uint8) # Structures Element\n",
    "def idx_check(index):\n",
    "    if index < 0:\n",
    "        return 0\n",
    "    else:\n",
    "        return index"
   ]
  },
  {
   "cell_type": "code",
   "execution_count": 3,
   "metadata": {},
   "outputs": [],
   "source": [
    "def doErosion(binary_img_matrix = None, structuring_element = default_structure):\n",
    "    binary_img_matrix = np.asarray(binary_img_matrix)\n",
    "    structuring_element = np.asarray(structuring_element)\n",
    "    ste_shp = structuring_element.shape\n",
    "    eroded_img = np.zeros((binary_img_matrix.shape[0], binary_img_matrix.shape[1]))\n",
    "    ste_origin = (int(np.ceil((structuring_element.shape[0] - 1) / 2.0)), int(np.ceil((structuring_element.shape[1] - 1) / 2.0)))\n",
    "    for i in range(len(binary_img_matrix)):\n",
    "        for j in range(len(binary_img_matrix[0])):\n",
    "            overlap = binary_img_matrix[idx_check(i - ste_origin[0]):i + (ste_shp[0] - ste_origin[0]),\n",
    "                      idx_check(j - ste_origin[1]):j + (ste_shp[1] - ste_origin[1])]\n",
    "            shp = overlap.shape\n",
    "            ste_first_row_idx = int(np.fabs(i - ste_origin[0])) if i - ste_origin[0] < 0 else 0\n",
    "            ste_first_col_idx = int(np.fabs(j - ste_origin[1])) if j - ste_origin[1] < 0 else 0\n",
    "\n",
    "            ste_last_row_idx = ste_shp[0] - 1 - (i + (ste_shp[0] - ste_origin[0]) - binary_img_matrix.shape[0]) if i + (ste_shp[0] - ste_origin[0]) > binary_img_matrix.shape[0] else ste_shp[0]-1\n",
    "            ste_last_col_idx = ste_shp[1] - 1 - (j + (ste_shp[1] - ste_origin[1]) - binary_img_matrix.shape[1]) if j + (ste_shp[1] - ste_origin[1]) > binary_img_matrix.shape[1] else ste_shp[1]-1\n",
    "\n",
    "            if shp[0] != 0 and shp[1] != 0 and np.array_equal(np.logical_and(overlap, structuring_element[ste_first_row_idx:ste_last_row_idx+1,\n",
    "                                                                       ste_first_col_idx:ste_last_col_idx+1]),structuring_element[ste_first_row_idx:ste_last_row_idx+1,\n",
    "                                                                       ste_first_col_idx:ste_last_col_idx+1]):\n",
    "                eroded_img[i, j] = 1\n",
    "    return eroded_img"
   ]
  },
  {
   "cell_type": "code",
   "execution_count": 4,
   "metadata": {},
   "outputs": [],
   "source": [
    "img = cv2.imread('./img/j.png',0) # 原圖\n",
    "erosion = doErosion(binary_img_matrix=img) # 原圖和Structures Element erosion結果\n",
    "\n",
    "img_float=img_as_float(img)\n",
    "boundary = cv2.subtract(img_float,erosion) # 原圖-erosion結果\n"
   ]
  },
  {
   "cell_type": "code",
   "execution_count": 5,
   "metadata": {},
   "outputs": [
    {
     "data": {
      "text/plain": [
       "-1"
      ]
     },
     "execution_count": 5,
     "metadata": {},
     "output_type": "execute_result"
    }
   ],
   "source": [
    "cv2.imshow('Input', img)\n",
    "cv2.imshow('Result', erosion)\n",
    "cv2.imshow(\"Boundary\", boundary)\n",
    "cv2.waitKey(0)"
   ]
  }
 ],
 "metadata": {
  "kernelspec": {
   "display_name": "Python 3",
   "language": "python",
   "name": "python3"
  },
  "language_info": {
   "codemirror_mode": {
    "name": "ipython",
    "version": 3
   },
   "file_extension": ".py",
   "mimetype": "text/x-python",
   "name": "python",
   "nbconvert_exporter": "python",
   "pygments_lexer": "ipython3",
   "version": "3.7.3"
  }
 },
 "nbformat": 4,
 "nbformat_minor": 2
}
