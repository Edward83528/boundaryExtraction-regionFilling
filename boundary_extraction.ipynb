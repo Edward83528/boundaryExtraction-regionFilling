{
 "cells": [
  {
   "cell_type": "markdown",
   "metadata": {},
   "source": [
    "## 邊界抽取 Boundary Extraction\n",
    "用 A 跟 B 做 Erosion 會得到一個比較小的A，再用原來的A 減掉比較小的A，那麼多出來的地方就剛好是邊界了"
   ]
  },
  {
   "cell_type": "code",
   "execution_count": 1,
   "metadata": {},
   "outputs": [],
   "source": [
    "import cv2\n",
    "import numpy as np\n",
    "\n",
    "img = cv2.imread('./img/j.png',0) # 原圖\n",
    "kernel = np.ones((5,5),np.uint8) # Structures Element\n",
    "erosion = cv2.erode(img,kernel,iterations = 1) # 原圖和Structures Element erosion結果\n",
    "\n",
    "boundary = cv2.subtract(img,erosion) # 原圖-erosion結果\n"
   ]
  },
  {
   "cell_type": "code",
   "execution_count": 2,
   "metadata": {},
   "outputs": [
    {
     "data": {
      "text/plain": [
       "-1"
      ]
     },
     "execution_count": 2,
     "metadata": {},
     "output_type": "execute_result"
    }
   ],
   "source": [
    "cv2.imshow('Input', img)\n",
    "cv2.imshow('Result', erosion)\n",
    "cv2.imshow(\"Boundary\", boundary)\n",
    "cv2.waitKey(0)"
   ]
  }
 ],
 "metadata": {
  "kernelspec": {
   "display_name": "Python 3",
   "language": "python",
   "name": "python3"
  },
  "language_info": {
   "codemirror_mode": {
    "name": "ipython",
    "version": 3
   },
   "file_extension": ".py",
   "mimetype": "text/x-python",
   "name": "python",
   "nbconvert_exporter": "python",
   "pygments_lexer": "ipython3",
   "version": "3.7.3"
  }
 },
 "nbformat": 4,
 "nbformat_minor": 2
}
