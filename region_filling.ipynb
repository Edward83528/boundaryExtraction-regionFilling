{
 "cells": [
  {
   "cell_type": "markdown",
   "metadata": {},
   "source": [
    "## Region Filling"
   ]
  },
  {
   "cell_type": "code",
   "execution_count": 2,
   "metadata": {},
   "outputs": [
    {
     "data": {
      "image/png": "[encoded data removed]",
      "text/plain": [
       "<Figure size 864x432 with 6 Axes>"
      ]
     },
     "metadata": {
      "needs_background": "light"
     },
     "output_type": "display_data"
    }
   ],
   "source": [
    "import numpy as np\n",
    "import cv2 as cv\n",
    "from matplotlib import pyplot as plt\n",
    "%matplotlib inline\n",
    "img = cv.imread(\"./img/regionfilling.jpg\")\n",
    "\n",
    "# 二值化\n",
    "imgray = cv.cvtColor(img, cv.COLOR_BGR2GRAY)\n",
    "imgray[imgray < 100] = 0\n",
    "imgray[imgray >= 100] = 255\n",
    "\n",
    "# 原图取补得到MASK图像\n",
    "mask = 255 - imgray\n",
    "\n",
    "# 构造Marker图像\n",
    "marker = np.zeros_like(imgray)\n",
    "marker[0, :] = 255\n",
    "marker[-1, :] = 255\n",
    "marker[:, 0] = 255\n",
    "marker[:, -1] = 255\n",
    "marker_0 = marker.copy()\n",
    "\n",
    "# 形态学重建\n",
    "SE = cv.getStructuringElement(shape=cv.MORPH_CROSS, ksize=(3, 3))\n",
    "while True:\n",
    "    marker_pre = marker\n",
    "    dilation = cv.dilate(marker, kernel=SE)\n",
    "    marker = np.min((dilation, mask), axis=0)\n",
    "    if (marker_pre == marker).all():\n",
    "        break\n",
    "dst = 255 - marker\n",
    "filling = dst - imgray\n",
    "\n",
    "# 显示\n",
    "plt.figure(figsize=(12, 6))  # width * height\n",
    "plt.subplot(2, 3, 1), plt.imshow(imgray, cmap='gray'), plt.title('src'), plt.axis(\"off\")\n",
    "plt.subplot(2, 3, 2), plt.imshow(mask, cmap='gray'), plt.title('Mask'), plt.axis(\"off\")\n",
    "plt.subplot(2, 3, 3), plt.imshow(marker_0, cmap='gray'), plt.title('Marker 0'), plt.axis(\"off\")\n",
    "plt.subplot(2, 3, 4), plt.imshow(marker, cmap='gray'), plt.title('Marker'), plt.axis(\"off\")\n",
    "plt.subplot(2, 3, 5), plt.imshow(dst, cmap='gray'), plt.title('dst'), plt.axis(\"off\")\n",
    "plt.subplot(2, 3, 6), plt.imshow(filling, cmap='gray'), plt.title('Holes'), plt.axis(\"off\")\n",
    "plt.show()"
   ]
  }
 ],
 "metadata": {
  "kernelspec": {
   "display_name": "Python 3",
   "language": "python",
   "name": "python3"
  },
  "language_info": {
   "codemirror_mode": {
    "name": "ipython",
    "version": 3
   },
   "file_extension": ".py",
   "mimetype": "text/x-python",
   "name": "python",
   "nbconvert_exporter": "python",
   "pygments_lexer": "ipython3",
   "version": "3.7.3"
  }
 },
 "nbformat": 4,
 "nbformat_minor": 2
}
